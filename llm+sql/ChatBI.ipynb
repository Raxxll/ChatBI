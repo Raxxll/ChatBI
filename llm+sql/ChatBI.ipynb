{
 "cells": [
  {
   "cell_type": "code",
   "execution_count": null,
   "metadata": {},
   "outputs": [],
   "source": [
    "from langchain_community.chat_models import ChatZhipuAI\n",
    "from dotenv import load_dotenv\n",
    "from utilis import *\n",
    "import os\n",
    "\n",
    "load_dotenv()\n",
    "llm_key = os.getenv('ZHIPUAI_API_KEY')\n",
    "db_key = os.getenv('DB_KEY')\n",
    "\n",
    "llm = ChatZhipuAI(\n",
    "    temperature=0.1,\n",
    "    api_key=llm_key,\n",
    "    model_name=\"glm-4-flash\",\n",
    ")\n",
    "\n",
    "connection = create_db_connection(\"localhost\", \"root\", db_key, \"用户画像\")"
   ]
  },
  {
   "cell_type": "code",
   "execution_count": 73,
   "metadata": {},
   "outputs": [],
   "source": [
    "from langchain_core.output_parsers import StrOutputParser \n",
    "from langchain_core.runnables import RunnablePassthrough\n",
    "from langchain_core.runnables import RunnableLambda\n",
    "from langchain.prompts import PromptTemplate\n",
    "\n",
    "template_sql = (\n",
    "    \"数据库信息如下：\\n\"\n",
    "    \"{info}\\n\"\n",
    "    \"注释信息如下：\\n\"\n",
    "    \"{comments}\\n\"\n",
    "    \"需要回答的问题是：\\n\"\n",
    "    \"{question}\\n\"\n",
    "    \"如果需要回答的问题跟数据库毫无关系，则不要回答\\n\"\n",
    "    \"请通过写 MYSQL代码来回答问题。请确保你的代码不要使用 PostgreSQL特有的语法而是选择 MySQL语法\\n\"\n",
    "    \"在回答问题之前，请先查看注释信息，了解所有列的定义以及数字类别的含义。\\n\"\n",
    "    \"注意你需要通过 sql代码回答，不需要文字。\\n\"\n",
    "    \"代码格式如下：```sql\\n\"\n",
    "    \"...\"\n",
    ")\n",
    "t_sql=PromptTemplate.from_template(template_sql)\n",
    "\n",
    "\n",
    "schema_info = get_schema(connection)\n",
    "comments = get_comments(connection)\n",
    "\n",
    "chain_sql=({\"info\":RunnablePassthrough(),         \n",
    "            \"question\":RunnablePassthrough(),\"comments\":RunnablePassthrough()}\n",
    "           |t_sql\n",
    "           |llm\n",
    "           |StrOutputParser()\n",
    "           |RunnableLambda(get_sql))"
   ]
  },
  {
   "cell_type": "code",
   "execution_count": 74,
   "metadata": {},
   "outputs": [],
   "source": [
    "template_nlp = (\n",
    "    \"请通过综合如下的数据库信息，sql代码的执行结果给出问题的自然语言回答。\\n\"\n",
    "    \"数据库信息{info}\\n\"\n",
    "    \"需要回答的问题是：{question}\\n\"\n",
    "    \"sql代码: {query}\\n\"\n",
    "    \"sql代码执行结果: {res}\\n\"\n",
    ")\n",
    "\n",
    "t_ans=PromptTemplate.from_template(template_nlp)\n",
    "\n",
    "chain_nlp=({\"info\":RunnablePassthrough(),\n",
    "            \"question\":RunnablePassthrough(),\n",
    "            \"query\":chain_sql}\n",
    "            |RunnablePassthrough.assign(res=lambda x: run_query(connection,x[\"query\"]))\n",
    "            |t_ans\n",
    "            |llm\n",
    "            |StrOutputParser())"
   ]
  },
  {
   "cell_type": "code",
   "execution_count": null,
   "metadata": {},
   "outputs": [],
   "source": [
    "#得到SQL代码\n",
    "\n",
    "question = \"\"\n",
    "input_data = {\"info\": schema_info, \"question\": question, \"commetns\": comments}\n",
    "\n",
    "# chain_sql.invoke(input_data)\n",
    "for chunk in chain_sql.stream(input_data):\n",
    "    print(chunk, end=\"\", flush=True)"
   ]
  },
  {
   "cell_type": "code",
   "execution_count": null,
   "metadata": {},
   "outputs": [],
   "source": [
    "#得到NLP回答\n",
    "\n",
    "# result = chain_ans.invoke(input_data)\n",
    "# print(result)\n",
    "\n",
    "for chunk in chain_nlp.stream(input_data):\n",
    "    print(chunk, end=\"\", flush=True)"
   ]
  }
 ],
 "metadata": {
  "kernelspec": {
   "display_name": "Python 3",
   "language": "python",
   "name": "python3"
  },
  "language_info": {
   "codemirror_mode": {
    "name": "ipython",
    "version": 3
   },
   "file_extension": ".py",
   "mimetype": "text/x-python",
   "name": "python",
   "nbconvert_exporter": "python",
   "pygments_lexer": "ipython3",
   "version": "3.11.7"
  }
 },
 "nbformat": 4,
 "nbformat_minor": 2
}
